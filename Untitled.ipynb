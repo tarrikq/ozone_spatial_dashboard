{
 "cells": [
  {
   "cell_type": "code",
   "execution_count": 1,
   "id": "876d5325-9592-4ff7-854b-23be7c2da25b",
   "metadata": {},
   "outputs": [],
   "source": [
    "import ee\n",
    "\n",
    "# Initialize the library\n",
    "ee.Initialize()\n",
    "\n"
   ]
  },
  {
   "cell_type": "code",
   "execution_count": 7,
   "id": "96c020df-13b8-40ca-baa0-2b07e7f794d3",
   "metadata": {},
   "outputs": [
    {
     "ename": "NameError",
     "evalue": "name 'Map' is not defined",
     "output_type": "error",
     "traceback": [
      "\u001b[1;31m---------------------------------------------------------------------------\u001b[0m",
      "\u001b[1;31mNameError\u001b[0m                                 Traceback (most recent call last)",
      "Input \u001b[1;32mIn [7]\u001b[0m, in \u001b[0;36m<cell line: 6>\u001b[1;34m()\u001b[0m\n\u001b[0;32m      3\u001b[0m southAmericaLSIB \u001b[38;5;241m=\u001b[39m table\u001b[38;5;241m.\u001b[39mfilter(ee\u001b[38;5;241m.\u001b[39mFilter\u001b[38;5;241m.\u001b[39meq(\u001b[38;5;124m'\u001b[39m\u001b[38;5;124mwld_rgn\u001b[39m\u001b[38;5;124m'\u001b[39m, \u001b[38;5;124m'\u001b[39m\u001b[38;5;124mSouth America\u001b[39m\u001b[38;5;124m'\u001b[39m))\n\u001b[0;32m      4\u001b[0m southAmerica \u001b[38;5;241m=\u001b[39m polygons\u001b[38;5;241m.\u001b[39mfilterBounds(southAmericaLSIB\u001b[38;5;241m.\u001b[39mgeometry())\n\u001b[1;32m----> 6\u001b[0m \u001b[43mMap\u001b[49m\u001b[38;5;241m.\u001b[39maddLayer(southAmericaLSIB, {color: \u001b[38;5;124m'\u001b[39m\u001b[38;5;124mred\u001b[39m\u001b[38;5;124m'\u001b[39m})\n\u001b[0;32m      7\u001b[0m Map\u001b[38;5;241m.\u001b[39maddLayer(southAmerica, {color: \u001b[38;5;124m'\u001b[39m\u001b[38;5;124mgreen\u001b[39m\u001b[38;5;124m'\u001b[39m})\n",
      "\u001b[1;31mNameError\u001b[0m: name 'Map' is not defined"
     ]
    }
   ],
   "source": [
    "polygons = ee.FeatureCollection('WCMC/WDPA/current/polygons');\n",
    "table = ee.FeatureCollection(\"USDOS/LSIB_SIMPLE/2017\");\n",
    "southAmericaLSIB = table.filter(ee.Filter.eq('wld_rgn', 'South America'))\n",
    "southAmerica = polygons.filterBounds(southAmericaLSIB.geometry())\n",
    "\n",
    "Map.addLayer(southAmericaLSIB, {color: 'red'})\n",
    "Map.addLayer(southAmerica, {color: 'green'})"
   ]
  },
  {
   "cell_type": "code",
   "execution_count": 5,
   "id": "aaf7a668-0217-411d-8140-cbf330cc06f1",
   "metadata": {},
   "outputs": [
    {
     "data": {
      "text/plain": [
       "<ee.featurecollection.FeatureCollection at 0x1b29afd39a0>"
      ]
     },
     "execution_count": 5,
     "metadata": {},
     "output_type": "execute_result"
    }
   ],
   "source": []
  },
  {
   "cell_type": "code",
   "execution_count": null,
   "id": "ab593e5e-4f63-4515-a7a9-1a4e165cab8a",
   "metadata": {},
   "outputs": [],
   "source": []
  }
 ],
 "metadata": {
  "kernelspec": {
   "display_name": "Python 3 (ipykernel)",
   "language": "python",
   "name": "python3"
  },
  "language_info": {
   "codemirror_mode": {
    "name": "ipython",
    "version": 3
   },
   "file_extension": ".py",
   "mimetype": "text/x-python",
   "name": "python",
   "nbconvert_exporter": "python",
   "pygments_lexer": "ipython3",
   "version": "3.9.12"
  }
 },
 "nbformat": 4,
 "nbformat_minor": 5
}
